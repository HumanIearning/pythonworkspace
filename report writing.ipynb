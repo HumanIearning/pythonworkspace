{
 "cells": [
  {
   "cell_type": "markdown",
   "id": "7a4dd87b",
   "metadata": {},
   "source": [
    "# Assignment 1"
   ]
  },
  {
   "cell_type": "markdown",
   "id": "f728927e",
   "metadata": {},
   "source": [
    "id : Humanlearning\n",
    "\n",
    "Date : 2021 september 25th"
   ]
  },
  {
   "cell_type": "markdown",
   "id": "0e9537c1",
   "metadata": {},
   "source": [
    "===================================================="
   ]
  },
  {
   "cell_type": "markdown",
   "id": "6341d2ee",
   "metadata": {},
   "source": [
    "The following equations are plotted for the corresponding domains:\n",
    "\n",
    "$f(x) = \\frac{1}{10}x^2 $ for x $ \\in[0,1.5) $\n",
    "\n",
    "$f(x) = \\sum_{n=1,3,5.....}^{N}{ \\frac{4}{\\pi n} \\text{sin}(\\frac{2\\pi n(x-1.5)}{T}}) $ for $x \\in[1.5,3]$"
   ]
  },
  {
   "cell_type": "markdown",
   "id": "c3a8f6fc",
   "metadata": {},
   "source": [
    "$\n",
    "\\begin{align}\n",
    "\\begin{cases}\n",
    "f(x) = \\frac{1}{10}x^2  & \\text{for } x  \\in[0,1.5) \n",
    "\\\\\n",
    "f(x) = \\sum_{n=1,3,5.....}^{N}{ \\frac{4}{\\pi n}  \\text{sin}(\\frac{2\\pi n(x-1.5)}{T}}) & \\text{for } x \\in[1.5,3]\n",
    "\\end{cases}\n",
    "\\end{align}\n",
    "$"
   ]
  },
  {
   "cell_type": "code",
   "execution_count": 11,
   "id": "9035b661",
   "metadata": {},
   "outputs": [],
   "source": [
    "import numpy as np\n",
    "import matplotlib.pyplot as plt\n",
    "%matplotlib inline"
   ]
  },
  {
   "cell_type": "code",
   "execution_count": 4,
   "id": "f5f82ce6",
   "metadata": {},
   "outputs": [],
   "source": [
    "# calculate the first equation\n",
    "x1 = np.arange(0,1.5,0.01)\n",
    "y1 = 1/10*x1**2"
   ]
  },
  {
   "cell_type": "code",
   "execution_count": 15,
   "id": "f9dfc46b",
   "metadata": {},
   "outputs": [],
   "source": [
    "# calculate the second equation\n",
    "x2 =  np.arange(1.5, 3+0.01, 0.01) # I want 3 to be included\n",
    "N = 500\n",
    "T = 1\n",
    "y2 = np.zeros(x2.shape)\n",
    "for n in range(N):\n",
    "    if n%2 == 1:\n",
    "        series = (4/(np.pi*n))*np.sin( (2*np.pi*n*(x2-1.5)) /T )\n",
    "        y2 = y2 + series"
   ]
  },
  {
   "cell_type": "code",
   "execution_count": 16,
   "id": "ee2ef422",
   "metadata": {},
   "outputs": [
    {
     "data": {
      "text/plain": [
       "Text(0.5, 1.0, 'piecewise Function')"
      ]
     },
     "execution_count": 16,
     "metadata": {},
     "output_type": "execute_result"
    },
    {
     "data": {
      "image/png": "[encoded data removed]",
      "text/plain": [
       "<Figure size 432x288 with 1 Axes>"
      ]
     },
     "metadata": {
      "needs_background": "light"
     },
     "output_type": "display_data"
    }
   ],
   "source": [
    "# plto\n",
    "plt.plot(x1,y1)\n",
    "plt.plot(x2,y2)\n",
    "plt.xlabel('x')\n",
    "plt.ylabel('y')\n",
    "plt.title('piecewise Function')"
   ]
  },
  {
   "cell_type": "code",
   "execution_count": null,
   "id": "89c58ab6",
   "metadata": {},
   "outputs": [],
   "source": []
  },
  {
   "cell_type": "code",
   "execution_count": null,
   "id": "b678470a",
   "metadata": {},
   "outputs": [],
   "source": []
  },
  {
   "cell_type": "code",
   "execution_count": null,
   "id": "2ad9c87f",
   "metadata": {},
   "outputs": [],
   "source": []
  },
  {
   "cell_type": "code",
   "execution_count": null,
   "id": "a9585425",
   "metadata": {},
   "outputs": [],
   "source": []
  },
  {
   "cell_type": "code",
   "execution_count": null,
   "id": "b4ebb665",
   "metadata": {},
   "outputs": [],
   "source": []
  },
  {
   "cell_type": "code",
   "execution_count": null,
   "id": "02dcb465",
   "metadata": {},
   "outputs": [],
   "source": []
  },
  {
   "cell_type": "code",
   "execution_count": null,
   "id": "8b0189ad",
   "metadata": {},
   "outputs": [],
   "source": []
  },
  {
   "cell_type": "code",
   "execution_count": null,
   "id": "c102c0a8",
   "metadata": {},
   "outputs": [],
   "source": []
  },
  {
   "cell_type": "code",
   "execution_count": null,
   "id": "940d7b8e",
   "metadata": {},
   "outputs": [],
   "source": []
  },
  {
   "cell_type": "code",
   "execution_count": null,
   "id": "ec402123",
   "metadata": {},
   "outputs": [],
   "source": []
  },
  {
   "cell_type": "code",
   "execution_count": null,
   "id": "c785f464",
   "metadata": {},
   "outputs": [],
   "source": []
  },
  {
   "cell_type": "code",
   "execution_count": null,
   "id": "7446c024",
   "metadata": {},
   "outputs": [],
   "source": []
  }
 ],
 "metadata": {
  "kernelspec": {
   "display_name": "Python 3",
   "language": "python",
   "name": "python3"
  },
  "language_info": {
   "codemirror_mode": {
    "name": "ipython",
    "version": 3
   },
   "file_extension": ".py",
   "mimetype": "text/x-python",
   "name": "python",
   "nbconvert_exporter": "python",
   "pygments_lexer": "ipython3",
   "version": "3.8.8"
  }
 },
 "nbformat": 4,
 "nbformat_minor": 5
}
